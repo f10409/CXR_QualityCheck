{
 "cells": [
  {
   "cell_type": "code",
   "execution_count": null,
   "id": "2494eb3a-5b4d-4e23-9e29-8e75bbb70168",
   "metadata": {},
   "outputs": [],
   "source": [
    "import pandas as pd\n",
    "import numpy as np\n",
    "\n",
    "import matplotlib.pyplot as plt\n",
    "import seaborn as sns\n",
    "import umap\n",
    "from sklearn.preprocessing import StandardScaler"
   ]
  },
  {
   "cell_type": "code",
   "execution_count": null,
   "id": "15a174d9-f02b-4a66-8183-d6f48d1c3d62",
   "metadata": {},
   "outputs": [],
   "source": [
    "def compute_umap(data, \n",
    "                n_neighbors=100,\n",
    "                min_dist=0.1,\n",
    "                n_components=2,\n",
    "                metric='euclidean',\n",
    "                random_state=None):\n",
    "    \"\"\"\n",
    "    Compute UMAP embeddings from input data\n",
    "    \n",
    "    Parameters:\n",
    "    -----------\n",
    "    data : array-like\n",
    "        Input data matrix\n",
    "    n_neighbors : int, default=15\n",
    "        Number of neighbors to consider for manifold construction\n",
    "    min_dist : float, default=0.1\n",
    "        Minimum distance between points in the embedding\n",
    "    n_components : int, default=2\n",
    "        Number of dimensions in the embedding\n",
    "    metric : str, default='euclidean'\n",
    "        Distance metric to use\n",
    "    random_state : int, default=42\n",
    "        Random seed for reproducibility\n",
    "    \n",
    "    Returns:\n",
    "    --------\n",
    "    embedding : numpy array\n",
    "        UMAP embedding of shape (n_samples, n_components)\n",
    "    reducer : UMAP object\n",
    "        Fitted UMAP object for potential reuse\n",
    "    \"\"\"\n",
    "    # Scale the data\n",
    "    scaler = StandardScaler()\n",
    "    data_scaled = scaler.fit_transform(data)\n",
    "    \n",
    "    # Configure and fit UMAP\n",
    "    reducer = umap.UMAP(\n",
    "        n_neighbors=n_neighbors,\n",
    "        min_dist=min_dist,\n",
    "        n_components=n_components,\n",
    "        metric=metric,\n",
    "        random_state=random_state,\n",
    "        n_jobs=16\n",
    "    )\n",
    "    \n",
    "    # Compute embedding\n",
    "    embedding = reducer.fit_transform(data_scaled)\n",
    "    \n",
    "    return embedding, reducer\n",
    "\n",
    "def plot_embedding(embedding, \n",
    "                          labels=None,\n",
    "                          figsize=(15, 10),\n",
    "                          point_size=5,\n",
    "                          alpha=0.7,\n",
    "                          title=None,\n",
    "                          palette='deep',\n",
    "                          style='whitegrid',\n",
    "                          return_fig=False,\n",
    "                          show_legend=True,\n",
    "                          xlabel='UMAP 0',\n",
    "                          ylabel='UMAP 1',\n",
    "                          hue_norm=None,\n",
    "                          hue_order=None,\n",
    "                          context='notebook'):\n",
    "\n",
    "    # Set Seaborn style and context\n",
    "    sns.set_style(style)\n",
    "    sns.set_context(context)\n",
    "    \n",
    "    # Create DataFrame for Seaborn\n",
    "    df = pd.DataFrame({\n",
    "        'UMAP0': embedding[:, 0],\n",
    "        'UMAP1': embedding[:, 1]\n",
    "    })\n",
    "    \n",
    "    if labels is not None:\n",
    "        df['Labels'] = labels\n",
    "    \n",
    "    # Create figure\n",
    "    fig, ax = plt.subplots(figsize=figsize)\n",
    "    \n",
    "    # Create scatter plot\n",
    "    if labels is not None:\n",
    "        sns.scatterplot(\n",
    "            data=df,\n",
    "            x='UMAP0',\n",
    "            y='UMAP1',\n",
    "            hue='Labels',\n",
    "            palette=palette,\n",
    "            s=point_size,\n",
    "            alpha=alpha,\n",
    "            legend=show_legend,\n",
    "            hue_norm=hue_norm,\n",
    "            hue_order=hue_order,\n",
    "        )\n",
    "        \n",
    "        # Adjust legend\n",
    "        if show_legend:\n",
    "            if isinstance(labels[0], (int, float, np.number)):\n",
    "                plt.colorbar()\n",
    "            #plt.legend(markerscale=10, bbox_to_anchor=(1.01, 1), loc='upper left')\n",
    "            plt.legend(markerscale=10, loc='upper right')\n",
    "    else:\n",
    "        sns.scatterplot(\n",
    "            data=df,\n",
    "            x='UMAP0',\n",
    "            y='UMAP1',\n",
    "            s=point_size,\n",
    "            alpha=alpha\n",
    "        )\n",
    "    \n",
    "    # Customize plot\n",
    "    plt.xlabel(xlabel)\n",
    "    plt.ylabel(ylabel)\n",
    "    if title:\n",
    "        plt.title(title)\n",
    "    \n",
    "    # Adjust layout to prevent label cutoff\n",
    "    plt.tight_layout()\n",
    "    \n",
    "    if return_fig:\n",
    "        return fig\n",
    "    plt.show()"
   ]
  },
  {
   "cell_type": "markdown",
   "id": "551cebeb-e7d7-4524-9b6e-b123be055541",
   "metadata": {},
   "source": [
    "### Load the RAD-DINO embeddings"
   ]
  },
  {
   "cell_type": "code",
   "execution_count": null,
   "id": "e91bf9df-2f46-4f72-8355-41108495d265",
   "metadata": {},
   "outputs": [],
   "source": [
    "embd_Emory = pd.read_csv('./input_example.csv')\n",
    "\n",
    "print('number of sample:', embd_Emory.shape[0])\n",
    "X = embd_Emory[[f'{i}' for i in range(768)]]"
   ]
  },
  {
   "cell_type": "markdown",
   "id": "38164a43-418c-460b-bac1-0b6ddc141bfd",
   "metadata": {},
   "source": [
    "### 2D visualization using UMAP"
   ]
  },
  {
   "cell_type": "code",
   "execution_count": null,
   "id": "304972c2-e482-484f-bd1b-ec98566897af",
   "metadata": {},
   "outputs": [],
   "source": [
    "# Compute UMAP embedding\n",
    "embedding, reducer = compute_umap(X, n_neighbors=100, min_dist=0.7)"
   ]
  },
  {
   "cell_type": "code",
   "execution_count": null,
   "id": "e3660ca7-6e74-49d7-a026-bd31404c4832",
   "metadata": {},
   "outputs": [],
   "source": [
    "col = 'ViewPosition'\n",
    "\n",
    "y = embd_Emory[col].astype(str)\n",
    "\n",
    "# Plot with categorical labels\n",
    "plot_embedding(\n",
    "        embedding,\n",
    "        labels=y,\n",
    "        palette='Set1',\n",
    "        style='white',\n",
    "        title=col,\n",
    "        point_size=1,\n",
    "        alpha=1\n",
    "    )"
   ]
  },
  {
   "cell_type": "code",
   "execution_count": null,
   "id": "058574e3-3552-4b02-baa5-5a37abb1c4da",
   "metadata": {},
   "outputs": [],
   "source": [
    "## Save UMAP embedding for future use as UMAP is time consuming\n",
    "\n",
    "embd_umap = embd_Emory[['ImagePath']]\n",
    "embd_umap[['UMAP0','UMAP1']] = embedding\n",
    "\n",
    "embd_umap.to_csv('embd_UMAP.csv', index=False)"
   ]
  },
  {
   "cell_type": "markdown",
   "id": "94b96198-7521-4d91-b171-6feda628a09b",
   "metadata": {},
   "source": [
    "### Plotting images on the UMAP plane"
   ]
  },
  {
   "cell_type": "code",
   "execution_count": null,
   "id": "510653f4-c317-4c35-b54f-bdbc8a478461",
   "metadata": {},
   "outputs": [],
   "source": [
    "## bin the UMAP embeddings \n",
    "\n",
    "embd_umap['UMAP0_Quantile'] = pd.cut(embd_umap.UMAP0, 25, labels=[i+1 for i in range(25)])\n",
    "embd_umap['UMAP1_Quantile'] = pd.cut(embd_umap.UMAP1, 25, labels=[i+1 for i in range(25)])"
   ]
  },
  {
   "cell_type": "code",
   "execution_count": null,
   "id": "9bc414e0-f8b0-45b3-ab16-256faf52c541",
   "metadata": {},
   "outputs": [],
   "source": [
    "embd_umap.head()"
   ]
  },
  {
   "cell_type": "code",
   "execution_count": null,
   "id": "e1784027-2494-4086-a07d-df5081b298f9",
   "metadata": {},
   "outputs": [],
   "source": [
    "import itertools\n",
    "from functools import partial\n",
    "from concurrent.futures import ProcessPoolExecutor\n",
    "from transforms.Transform4RADDINO import Transform4RADDINO\n",
    "import monai as mn\n",
    "\n",
    "def get_data_dict_part(df_part):\n",
    "    \"Important! Might need to modify this function\"\n",
    "    \n",
    "    data_dict = list()\n",
    "    for i in range(len(df_part)):\n",
    "        row = df_part.iloc[i]\n",
    "\n",
    "        data_dict.append({\n",
    "            'img':BASE+row[\"ImagePath\"],\n",
    "            \"paths\": BASE+row[\"ImagePath\"]\n",
    "        })\n",
    "    \n",
    "    return data_dict\n",
    "\n",
    "def get_data_dict(df, num_cores=1):\n",
    "    parts = np.array_split(df, num_cores)\n",
    "    func = partial(get_data_dict_part)\n",
    "    \n",
    "    with ProcessPoolExecutor(num_cores) as executor:\n",
    "        data_dicts = executor.map(func, parts)\n",
    "    \n",
    "    return list(itertools.chain(*data_dicts))"
   ]
  },
  {
   "cell_type": "code",
   "execution_count": null,
   "id": "a65f04ca-9839-4bac-8ce4-878611bf8430",
   "metadata": {},
   "outputs": [],
   "source": [
    "IMG_SIZE = 518\n",
    "BASE = 'IMAGE_PATH_HERE/' # base path for the image\n",
    "\n",
    "eval_transforms = Transform4RADDINO(IMG_SIZE).predict\n",
    "\n",
    "fig, axs = plt.subplots(25, 25, figsize=(30,30))\n",
    "\n",
    "for i in range(25):\n",
    "    for j in range(25):\n",
    "        \n",
    "        df_temp = embd_umap[(embd_umap.UMAP0_Quantile==j+1) & (embd_umap.UMAP1_Quantile==i+1)]\n",
    "        \n",
    "        if len(df_temp)>0:\n",
    "            df_temp_ = df_temp.sample(n=1)\n",
    "            eval_dict = get_data_dict(df_temp_)\n",
    "            test_ds=mn.data.Dataset(data=eval_dict, transform=eval_transforms)\n",
    "            \n",
    "            for data_ in test_ds[0:1]:\n",
    "            \n",
    "                axs[24-i,j].imshow(np.array(data_['img'])[0,:,:], cmap='gray')\n",
    "                #axs[24-i,j].set_title(f'{df_temp_.Dataset.iloc[0]}')\n",
    "        axs[24-i,j].axis(\"off\")\n",
    "plt.tight_layout()\n",
    "plt.show()"
   ]
  },
  {
   "cell_type": "markdown",
   "id": "44225e28-5e7b-418c-a83b-5013c054e83d",
   "metadata": {},
   "source": [
    "### Filter out the outliers "
   ]
  },
  {
   "cell_type": "code",
   "execution_count": null,
   "id": "219eae1e-b6f5-4616-8e42-119a23c2515e",
   "metadata": {},
   "outputs": [],
   "source": [
    "## Please modify the boundaries\n",
    "\n",
    "err = embd_umap[(embd_umap.UMAP0_Quantile>=7) & (embd_umap.UMAP0_Quantile<=10) & (embd_umap.UMAP1_Quantile>=17) & (embd_umap.UMAP1_Quantile<=24)]\n",
    "err"
   ]
  },
  {
   "cell_type": "markdown",
   "id": "8737c9c6-ed84-4a10-b3ac-9b1ffb1f2bae",
   "metadata": {},
   "source": [
    "#### Plot Outliers"
   ]
  },
  {
   "cell_type": "code",
   "execution_count": null,
   "id": "3434f3a4-5d47-4ca9-a83f-43aa7b942eef",
   "metadata": {},
   "outputs": [],
   "source": [
    "from PIL import Image\n",
    "\n",
    "def plot_images(image_paths, n_img):\n",
    "   figsize=(20, 25*n_img)\n",
    "   fig, axes = plt.subplots(1, n_img, figsize=figsize)\n",
    "   \n",
    "   for i, ax in enumerate(axes.flat):\n",
    "       if i < len(image_paths):\n",
    "           img = Image.open(BASE+image_paths[i])\n",
    "           ax.imshow(np.array(img), cmap='gray')\n",
    "           ax.axis('off')\n",
    "       else:\n",
    "           ax.axis('off')\n",
    "           \n",
    "   plt.tight_layout()\n",
    "   plt.show()"
   ]
  },
  {
   "cell_type": "code",
   "execution_count": null,
   "id": "aa81df7d-ffcd-4722-9aae-094faa4e373d",
   "metadata": {},
   "outputs": [],
   "source": [
    "n_img = 5\n",
    "image_paths = list(err.sample(n=n_img).ImagePath)\n",
    "plot_images(image_paths, n_img)"
   ]
  },
  {
   "cell_type": "code",
   "execution_count": null,
   "id": "8f619a83-6572-4754-9810-884c608fac4f",
   "metadata": {},
   "outputs": [],
   "source": []
  }
 ],
 "metadata": {
  "kernelspec": {
   "display_name": "cxr-qualitycheck",
   "language": "python",
   "name": "cxr-qualitycheck"
  },
  "language_info": {
   "codemirror_mode": {
    "name": "ipython",
    "version": 3
   },
   "file_extension": ".py",
   "mimetype": "text/x-python",
   "name": "python",
   "nbconvert_exporter": "python",
   "pygments_lexer": "ipython3",
   "version": "3.10.0"
  }
 },
 "nbformat": 4,
 "nbformat_minor": 5
}
